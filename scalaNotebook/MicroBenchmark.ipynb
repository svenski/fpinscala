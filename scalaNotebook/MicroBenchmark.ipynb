{
 "cells": [
  {
   "cell_type": "code",
   "execution_count": 1,
   "metadata": {
    "collapsed": false
   },
   "outputs": [
    {
     "name": "stdout",
     "output_type": "stream",
     "text": [
      ":: problems summary ::\n",
      ":::: WARNINGS\n",
      "\tUnable to reparse com.github.alexarchambault.jupyter#jupyter-scala-api_2.10.5;0.2.0-SNAPSHOT from sonatype-snapshots, using Fri Jun 05 09:13:44 BST 2015\n",
      "\n",
      "\tChoosing sonatype-snapshots for com.github.alexarchambault.jupyter#jupyter-scala-api_2.10.5;0.2.0-SNAPSHOT\n",
      "\n",
      "\tUnable to reparse com.github.alexarchambault#ammonite-api_2.10.5;0.3.1-SNAPSHOT from sonatype-snapshots, using Thu Sep 10 11:28:42 BST 2015\n",
      "\n",
      "\tChoosing sonatype-snapshots for com.github.alexarchambault#ammonite-api_2.10.5;0.3.1-SNAPSHOT\n",
      "\n",
      "\tUnable to reparse com.github.alexarchambault.jupyter#jupyter-api_2.10;0.2.0-SNAPSHOT from sonatype-snapshots, using Mon Jun 01 01:53:32 BST 2015\n",
      "\n",
      "\tChoosing sonatype-snapshots for com.github.alexarchambault.jupyter#jupyter-api_2.10;0.2.0-SNAPSHOT\n",
      "\n",
      "\t\tmodule not found: com.github.melrief#purecsv_2.10;0.0.1\n",
      "\n",
      "\t==== local: tried\n",
      "\n",
      "\t  /Users/sbleja/.ivy2/local/com.github.melrief/purecsv_2.10/0.0.1/ivys/ivy.xml\n",
      "\n",
      "\t==== public: tried\n",
      "\n",
      "\t  https://repo1.maven.org/maven2/com/github/melrief/purecsv_2.10/0.0.1/purecsv_2.10-0.0.1.pom\n",
      "\n",
      "\t==== sonatype-snapshots: tried\n",
      "\n",
      "\t  https://oss.sonatype.org/content/repositories/snapshots/com/github/melrief/purecsv_2.10/0.0.1/purecsv_2.10-0.0.1.pom\n",
      "\n"
     ]
    },
    {
     "data": {
      "text/plain": []
     },
     "metadata": {},
     "output_type": "display_data"
    }
   ],
   "source": []
  },
  {
   "cell_type": "code",
   "execution_count": 4,
   "metadata": {
    "collapsed": false
   },
   "outputs": [
    {
     "name": "stdout",
     "output_type": "stream",
     "text": [
      ":: problems summary ::\n",
      ":::: WARNINGS\n",
      "\tUnable to reparse com.github.alexarchambault.jupyter#jupyter-scala-api_2.10.5;0.2.0-SNAPSHOT from sonatype-snapshots, using Fri Jun 05 09:13:44 BST 2015\n",
      "\n",
      "\tChoosing sonatype-snapshots for com.github.alexarchambault.jupyter#jupyter-scala-api_2.10.5;0.2.0-SNAPSHOT\n",
      "\n",
      "\tUnable to reparse com.github.alexarchambault#ammonite-api_2.10.5;0.3.1-SNAPSHOT from sonatype-snapshots, using Thu Sep 10 11:28:42 BST 2015\n",
      "\n",
      "\tChoosing sonatype-snapshots for com.github.alexarchambault#ammonite-api_2.10.5;0.3.1-SNAPSHOT\n",
      "\n",
      "\tUnable to reparse com.github.alexarchambault.jupyter#jupyter-api_2.10;0.2.0-SNAPSHOT from sonatype-snapshots, using Mon Jun 01 01:53:32 BST 2015\n",
      "\n",
      "\tChoosing sonatype-snapshots for com.github.alexarchambault.jupyter#jupyter-api_2.10;0.2.0-SNAPSHOT\n",
      "\n",
      "\t\tmodule not found: com.github.melrief#purecsv_2.10;0.0.1\n",
      "\n",
      "\t==== local: tried\n",
      "\n",
      "\t  /Users/sbleja/.ivy2/local/com.github.melrief/purecsv_2.10/0.0.1/ivys/ivy.xml\n",
      "\n",
      "\t==== public: tried\n",
      "\n",
      "\t  https://repo1.maven.org/maven2/com/github/melrief/purecsv_2.10/0.0.1/purecsv_2.10-0.0.1.pom\n",
      "\n",
      "\t==== sonatype-snapshots: tried\n",
      "\n",
      "\t  https://oss.sonatype.org/content/repositories/snapshots/com/github/melrief/purecsv_2.10/0.0.1/purecsv_2.10-0.0.1.pom\n",
      "\n"
     ]
    },
    {
     "data": {
      "text/plain": []
     },
     "metadata": {},
     "output_type": "display_data"
    }
   ],
   "source": [
    "load.ivy(\"com.storm-enroute\" %% \"scalameter\" % \"0.7\")"
   ]
  },
  {
   "cell_type": "code",
   "execution_count": 6,
   "metadata": {
    "collapsed": false
   },
   "outputs": [
    {
     "data": {
      "text/plain": [
       "\u001b[32mimport \u001b[36morg.scalameter.api._\u001b[0m\n",
       "defined \u001b[32mobject \u001b[36mRangeBenchmark\u001b[0m"
      ]
     },
     "metadata": {},
     "output_type": "display_data"
    }
   ],
   "source": [
    "import org.scalameter.api._\n",
    "\n",
    "object RangeBenchmark extends Bench.LocalTime {\n",
    "  val sizes = Gen.range(\"size\")(300000, 1500000, 300000)\n",
    "\n",
    "  val ranges = for {\n",
    "    size <- sizes\n",
    "  } yield 0 until size\n",
    "\n",
    "  performance of \"Range\" in {\n",
    "    measure method \"map\" in {\n",
    "      using(ranges) in {\n",
    "        r => r.map(_ + 1)\n",
    "      }\n",
    "    }\n",
    "  }\n",
    "}"
   ]
  },
  {
   "cell_type": "code",
   "execution_count": 8,
   "metadata": {
    "collapsed": false
   },
   "outputs": [
    {
     "ename": "",
     "evalue": "",
     "output_type": "error",
     "traceback": [
      "Compilation Failed",
      "\u001b[31mMain.scala:107: value Range is not a member of object cmd4.this.$ref$cmd3.RangeBenchmark",
      "RangeBenchmark.Range",
      "               ^\u001b[0m"
     ]
    }
   ],
   "source": []
  }
 ],
 "metadata": {
  "kernelspec": {
   "display_name": "Scala 2.10",
   "language": "scala210",
   "name": "scala210"
  },
  "language_info": {
   "codemirror_mode": "text/x-scala",
   "file_extension": "scala",
   "mimetype": "text/x-scala",
   "name": "scala210",
   "pygments_lexer": "scala",
   "version": "2.10.5"
  }
 },
 "nbformat": 4,
 "nbformat_minor": 0
}
